{
    "nbformat_minor": 2, 
    "cells": [
        {
            "source": "<div class=\"alert alert-block alert-info\" style=\"margin-top: 20px\">\n    <a href=\"https://cocl.us/topNotebooksPython101Coursera\">\n         <img src=\"https://s3-api.us-geo.objectstorage.softlayer.net/cf-courses-data/CognitiveClass/PY0101EN/Ad/TopAd.png\" width=\"750\" align=\"center\">\n    </a>\n</div>", 
            "cell_type": "markdown", 
            "metadata": {}
        }, 
        {
            "source": "<a href=\"https://cognitiveclass.ai/\">\n    <img src=\"https://s3-api.us-geo.objectstorage.softlayer.net/cf-courses-data/CognitiveClass/PY0101EN/Ad/CCLog.png\" width=\"200\" align=\"center\">\n</a>", 
            "cell_type": "markdown", 
            "metadata": {}
        }, 
        {
            "source": "<h1>1D <code>Numpy</code> in Python</h1>", 
            "cell_type": "markdown", 
            "metadata": {}
        }, 
        {
            "source": "<p><strong>Welcome!</strong> This notebook will teach you about using <code>Numpy</code> in the Python Programming Language. By the end of this lab, you'll know what <code>Numpy</code> is and the <code>Numpy</code> operations.</p>", 
            "cell_type": "markdown", 
            "metadata": {}
        }, 
        {
            "source": "<h2>Table of Contents</h2>\n<div class=\"alert alert-block alert-info\" style=\"margin-top: 20px\">\n    <ul>\n        <li><a href=\"pre\">Preparation</a></li>\n        <li>\n            <a href=\"numpy\">What is Numpy?</a>\n            <ul>\n                <li><a href=\"type\">Type</a></li>\n                <li><a href=\"val\">Assign Value</a></li>\n                <li><a href=\"slice\">Slicing</a></li>\n                <li><a href=\"list\">Assign Value with List</a></li>\n                <li><a href=\"other\">Other Attributes</a></li>\n            </ul>\n        </li>\n        <li>\n            <a href=\"op\">Numpy Array Operations</a>\n            <ul>\n                <li><a href=\"add\">Array Addition</a></li>\n                <li><a href=\"multi\">Array Multiplication</a></li>\n                <li><a href=\"prod\">Product of Two Numpy Arrays</a></li>\n                <li><a href=\"dot\">Dot Product</a></li>\n                <li><a href=\"cons\">Adding Constant to a Numpy Array</a></li>\n            </ul>\n        </li>\n        <li><a href=\"math\">Mathematical Functions</a></li>\n        <li><a href=\"lin\">Linspace</a></li>\n    </ul>\n    <p>\n        Estimated time needed: <strong>30 min</strong>\n    </p>\n</div>\n\n<hr>", 
            "cell_type": "markdown", 
            "metadata": {}
        }, 
        {
            "source": "<h2 id=\"pre\">Preparation</h2>", 
            "cell_type": "markdown", 
            "metadata": {}
        }, 
        {
            "source": "# Import the libraries\n\nimport time \nimport sys\nimport numpy as np \n\nimport matplotlib.pyplot as plt\n%matplotlib inline  ", 
            "cell_type": "code", 
            "metadata": {
                "collapsed": true
            }, 
            "outputs": [], 
            "execution_count": 2
        }, 
        {
            "source": "# Plotting functions\n\ndef Plotvec1(u, z, v):\n    \n    ax = plt.axes()\n    ax.arrow(0, 0, *u, head_width=0.05, color='r', head_length=0.1)\n    plt.text(*(u + 0.1), 'u')\n    \n    ax.arrow(0, 0, *v, head_width=0.05, color='b', head_length=0.1)\n    plt.text(*(v + 0.1), 'v')\n    ax.arrow(0, 0, *z, head_width=0.05, head_length=0.1)\n    plt.text(*(z + 0.1), 'z')\n    plt.ylim(-2, 2)\n    plt.xlim(-2, 2)\n\ndef Plotvec2(a,b):\n    ax = plt.axes()\n    ax.arrow(0, 0, *a, head_width=0.05, color ='r', head_length=0.1)\n    plt.text(*(a + 0.1), 'a')\n    ax.arrow(0, 0, *b, head_width=0.05, color ='b', head_length=0.1)\n    plt.text(*(b + 0.1), 'b')\n    plt.ylim(-2, 2)\n    plt.xlim(-2, 2)", 
            "cell_type": "code", 
            "metadata": {}, 
            "outputs": [], 
            "execution_count": 18
        }, 
        {
            "source": "Create a Python List as follows:", 
            "cell_type": "markdown", 
            "metadata": {}
        }, 
        {
            "source": "# Create a python list\n\na = [\"0\", 1, \"two\", \"3\", 4]", 
            "cell_type": "code", 
            "metadata": {}, 
            "outputs": [], 
            "execution_count": 4
        }, 
        {
            "source": "We can access the data via an index:", 
            "cell_type": "markdown", 
            "metadata": {}
        }, 
        {
            "source": "<img src=\"https://s3-api.us-geo.objectstorage.softlayer.net/cf-courses-data/CognitiveClass/PY0101EN/Chapter%205/Images/NumOneList.png\" width=\"660\" />", 
            "cell_type": "markdown", 
            "metadata": {}
        }, 
        {
            "source": "We can access each element using a square bracket as follows: ", 
            "cell_type": "markdown", 
            "metadata": {}
        }, 
        {
            "source": "# Print each element\n\nprint(\"a[0]:\", a[0])\nprint(\"a[1]:\", a[1])\nprint(\"a[2]:\", a[2])\nprint(\"a[3]:\", a[3])\nprint(\"a[4]:\", a[4])", 
            "cell_type": "code", 
            "metadata": {}, 
            "outputs": [
                {
                    "output_type": "stream", 
                    "name": "stdout", 
                    "text": "a[0]: 0\na[1]: 1\na[2]: two\na[3]: 3\na[4]: 4\n"
                }
            ], 
            "execution_count": 5
        }, 
        {
            "source": "<hr>", 
            "cell_type": "markdown", 
            "metadata": {}
        }, 
        {
            "source": "<h2 id=\"numpy\">What is Numpy?</h2>", 
            "cell_type": "markdown", 
            "metadata": {}
        }, 
        {
            "source": "A numpy array is similar to a list. It's usually fixed in size and each element is of the same type. We can cast a list to a numpy array by first importing numpy: ", 
            "cell_type": "markdown", 
            "metadata": {}
        }, 
        {
            "source": "# import numpy library\n\nimport numpy as np ", 
            "cell_type": "code", 
            "metadata": {}, 
            "outputs": [], 
            "execution_count": 6
        }, 
        {
            "source": " We then cast the list as follows:", 
            "cell_type": "markdown", 
            "metadata": {}
        }, 
        {
            "source": "# Create a numpy array\n\na = np.array([0, 1, 2, 3, 4])\na", 
            "cell_type": "code", 
            "metadata": {}, 
            "outputs": [
                {
                    "execution_count": 7, 
                    "output_type": "execute_result", 
                    "data": {
                        "text/plain": "array([0, 1, 2, 3, 4])"
                    }, 
                    "metadata": {}
                }
            ], 
            "execution_count": 7
        }, 
        {
            "source": "Each element is of the same type, in this case integers: ", 
            "cell_type": "markdown", 
            "metadata": {}
        }, 
        {
            "source": "<img src=\"https://s3-api.us-geo.objectstorage.softlayer.net/cf-courses-data/CognitiveClass/PY0101EN/Chapter%205/Images/NumOneNp.png\" width=\"500\" />", 
            "cell_type": "markdown", 
            "metadata": {}
        }, 
        {
            "source": " As with lists, we can access each element via a square bracket:", 
            "cell_type": "markdown", 
            "metadata": {}
        }, 
        {
            "source": "# Print each element\n\nprint(\"a[0]:\", a[0])\nprint(\"a[1]:\", a[1])\nprint(\"a[2]:\", a[2])\nprint(\"a[3]:\", a[3])\nprint(\"a[4]:\", a[4])", 
            "cell_type": "code", 
            "metadata": {}, 
            "outputs": [
                {
                    "output_type": "stream", 
                    "name": "stdout", 
                    "text": "a[0]: 0\na[1]: 1\na[2]: 2\na[3]: 3\na[4]: 4\n"
                }
            ], 
            "execution_count": 8
        }, 
        {
            "source": "<h3 id=\"type\">Type</h3>", 
            "cell_type": "markdown", 
            "metadata": {}
        }, 
        {
            "source": "If we check the type of the array we get <b>numpy.ndarray</b>:", 
            "cell_type": "markdown", 
            "metadata": {}
        }, 
        {
            "source": "# Check the type of the array\n\ntype(a)", 
            "cell_type": "code", 
            "metadata": {}, 
            "outputs": [
                {
                    "execution_count": 9, 
                    "output_type": "execute_result", 
                    "data": {
                        "text/plain": "numpy.ndarray"
                    }, 
                    "metadata": {}
                }
            ], 
            "execution_count": 9
        }, 
        {
            "source": "As numpy arrays contain data of the same type, we can use the attribute \"dtype\" to obtain the Data-type of the array\u2019s elements. In this case a 64-bit integer: \n", 
            "cell_type": "markdown", 
            "metadata": {}
        }, 
        {
            "source": "# Check the type of the values stored in numpy array\n\na.dtype", 
            "cell_type": "code", 
            "metadata": {}, 
            "outputs": [
                {
                    "execution_count": 10, 
                    "output_type": "execute_result", 
                    "data": {
                        "text/plain": "dtype('int64')"
                    }, 
                    "metadata": {}
                }
            ], 
            "execution_count": 10
        }, 
        {
            "source": "We can create a numpy array with real numbers:", 
            "cell_type": "markdown", 
            "metadata": {}
        }, 
        {
            "source": "# Create a numpy array\n\nb = np.array([3.1, 11.02, 6.2, 213.2, 5.2])", 
            "cell_type": "code", 
            "metadata": {}, 
            "outputs": [], 
            "execution_count": 11
        }, 
        {
            "source": "When we check the type of the array we get <b>numpy.ndarray</b>:", 
            "cell_type": "markdown", 
            "metadata": {}
        }, 
        {
            "source": "# Check the type of array\n\ntype(b)", 
            "cell_type": "code", 
            "metadata": {}, 
            "outputs": [
                {
                    "execution_count": 12, 
                    "output_type": "execute_result", 
                    "data": {
                        "text/plain": "numpy.ndarray"
                    }, 
                    "metadata": {}
                }
            ], 
            "execution_count": 12
        }, 
        {
            "source": "If we examine the attribute <code>dtype</code> we see float 64, as the elements are not integers: ", 
            "cell_type": "markdown", 
            "metadata": {}
        }, 
        {
            "source": "# Check the value type\n\nb.dtype", 
            "cell_type": "code", 
            "metadata": {}, 
            "outputs": [
                {
                    "execution_count": 13, 
                    "output_type": "execute_result", 
                    "data": {
                        "text/plain": "dtype('float64')"
                    }, 
                    "metadata": {}
                }
            ], 
            "execution_count": 13
        }, 
        {
            "source": "<h3 id=\"val\">Assign value</h3>", 
            "cell_type": "markdown", 
            "metadata": {}
        }, 
        {
            "source": "We can change the value of the array, consider the array <code>c</code>:", 
            "cell_type": "markdown", 
            "metadata": {}
        }, 
        {
            "source": "# Create numpy array\n\nc = np.array([20, 1, 2, 3, 4])\nc", 
            "cell_type": "code", 
            "metadata": {}, 
            "outputs": [
                {
                    "execution_count": 14, 
                    "output_type": "execute_result", 
                    "data": {
                        "text/plain": "array([20,  1,  2,  3,  4])"
                    }, 
                    "metadata": {}
                }
            ], 
            "execution_count": 14
        }, 
        {
            "source": "We can change the first element of the array to 100 as follows:", 
            "cell_type": "markdown", 
            "metadata": {}
        }, 
        {
            "source": "# Assign the first element to 100\n\nc[0] = 100\nc", 
            "cell_type": "code", 
            "metadata": {}, 
            "outputs": [
                {
                    "execution_count": 15, 
                    "output_type": "execute_result", 
                    "data": {
                        "text/plain": "array([100,   1,   2,   3,   4])"
                    }, 
                    "metadata": {}
                }
            ], 
            "execution_count": 15
        }, 
        {
            "source": "We can change the 5th element of the array to 0 as follows:", 
            "cell_type": "markdown", 
            "metadata": {}
        }, 
        {
            "source": "# Assign the 5th element to 0\n\nc[4] = 0\nc", 
            "cell_type": "code", 
            "metadata": {}, 
            "outputs": [
                {
                    "execution_count": 16, 
                    "output_type": "execute_result", 
                    "data": {
                        "text/plain": "array([100,   1,   2,   3,   0])"
                    }, 
                    "metadata": {}
                }
            ], 
            "execution_count": 16
        }, 
        {
            "source": "<h3 id=\"slice\">Slicing</h3>", 
            "cell_type": "markdown", 
            "metadata": {}
        }, 
        {
            "source": "Like lists, we can slice the numpy array, and we can select the elements from 1 to 3 and assign it to a new numpy array <code>d</code> as follows:", 
            "cell_type": "markdown", 
            "metadata": {}
        }, 
        {
            "source": "# Slicing the numpy array\n\nd = c[1:4]\nd", 
            "cell_type": "code", 
            "metadata": {}, 
            "outputs": [
                {
                    "execution_count": 17, 
                    "output_type": "execute_result", 
                    "data": {
                        "text/plain": "array([1, 2, 3])"
                    }, 
                    "metadata": {}
                }
            ], 
            "execution_count": 17
        }, 
        {
            "source": "We can assign the corresponding indexes to  new values as follows: ", 
            "cell_type": "markdown", 
            "metadata": {}
        }, 
        {
            "source": "# Set the fourth element and fifth element to 300 and 400\n\nc[3:5] = 300, 400\nc", 
            "cell_type": "code", 
            "metadata": {}, 
            "outputs": [
                {
                    "execution_count": 18, 
                    "output_type": "execute_result", 
                    "data": {
                        "text/plain": "array([100,   1,   2, 300, 400])"
                    }, 
                    "metadata": {}
                }
            ], 
            "execution_count": 18
        }, 
        {
            "source": "<h3 id=\"list\">Assign Value with List</h3>", 
            "cell_type": "markdown", 
            "metadata": {}
        }, 
        {
            "source": "Similarly, we can use a list to select a specific index.\nThe list ' select ' contains several values:\n", 
            "cell_type": "markdown", 
            "metadata": {}
        }, 
        {
            "source": "# Create the index list\n\nselect = [0, 2, 3]", 
            "cell_type": "code", 
            "metadata": {
                "collapsed": true
            }, 
            "outputs": [], 
            "execution_count": 19
        }, 
        {
            "source": "We can use the list as an argument in the brackets. The output is the elements corresponding to the particular index:", 
            "cell_type": "markdown", 
            "metadata": {}
        }, 
        {
            "source": "# Use List to select elements\n\nd = c[select]\nd", 
            "cell_type": "code", 
            "metadata": {}, 
            "outputs": [
                {
                    "execution_count": 20, 
                    "output_type": "execute_result", 
                    "data": {
                        "text/plain": "array([100,   2, 300])"
                    }, 
                    "metadata": {}
                }
            ], 
            "execution_count": 20
        }, 
        {
            "source": "We can assign the specified elements to a new value. For example, we can assign the values to 100 000 as follows:", 
            "cell_type": "markdown", 
            "metadata": {}
        }, 
        {
            "source": "# Assign the specified elements to new value\n\nc[select] = 100000\nc", 
            "cell_type": "code", 
            "metadata": {}, 
            "outputs": [
                {
                    "execution_count": 21, 
                    "output_type": "execute_result", 
                    "data": {
                        "text/plain": "array([100000,      1, 100000, 100000,    400])"
                    }, 
                    "metadata": {}
                }
            ], 
            "execution_count": 21
        }, 
        {
            "source": "<h3 id=\"other\">Other Attributes</h3>", 
            "cell_type": "markdown", 
            "metadata": {}
        }, 
        {
            "source": "Let's review some basic array attributes using the array <code>a</code>:", 
            "cell_type": "markdown", 
            "metadata": {}
        }, 
        {
            "source": "# Create a numpy array\n\na = np.array([0, 1, 2, 3, 4])\na", 
            "cell_type": "code", 
            "metadata": {}, 
            "outputs": [
                {
                    "execution_count": 22, 
                    "output_type": "execute_result", 
                    "data": {
                        "text/plain": "array([0, 1, 2, 3, 4])"
                    }, 
                    "metadata": {}
                }
            ], 
            "execution_count": 22
        }, 
        {
            "source": "The attribute <code>size</code> is the number of elements in the array:", 
            "cell_type": "markdown", 
            "metadata": {}
        }, 
        {
            "source": "# Get the size of numpy array\n\na.size", 
            "cell_type": "code", 
            "metadata": {}, 
            "outputs": [], 
            "execution_count": null
        }, 
        {
            "source": "The next two attributes will make more sense when we get to higher dimensions but let's review them. The attribute <code>ndim</code> represents the number of array dimensions or the rank of the array, in this case, one:", 
            "cell_type": "markdown", 
            "metadata": {}
        }, 
        {
            "source": "# Get the number of dimensions of numpy array\n\na.ndim", 
            "cell_type": "code", 
            "metadata": {}, 
            "outputs": [], 
            "execution_count": null
        }, 
        {
            "source": "The attribute <code>shape</code> is a tuple of integers indicating the size of the array in each dimension:", 
            "cell_type": "markdown", 
            "metadata": {}
        }, 
        {
            "source": "# Get the shape/size of numpy array\n\na.shape", 
            "cell_type": "code", 
            "metadata": {}, 
            "outputs": [], 
            "execution_count": null
        }, 
        {
            "source": "# Create a numpy array\n\na = np.array([1, -1, 1, -1])", 
            "cell_type": "code", 
            "metadata": {
                "collapsed": true
            }, 
            "outputs": [], 
            "execution_count": null
        }, 
        {
            "source": "# Get the mean of numpy array\n\nmean = a.mean()\nmean", 
            "cell_type": "code", 
            "metadata": {}, 
            "outputs": [], 
            "execution_count": null
        }, 
        {
            "source": "# Get the standard deviation of numpy array\n\nstandard_deviation=a.std()\nstandard_deviation", 
            "cell_type": "code", 
            "metadata": {}, 
            "outputs": [], 
            "execution_count": null
        }, 
        {
            "source": "# Create a numpy array\n\nb = np.array([-1, 2, 3, 4, 5])\nb", 
            "cell_type": "code", 
            "metadata": {}, 
            "outputs": [], 
            "execution_count": null
        }, 
        {
            "source": "# Get the biggest value in the numpy array\n\nmax_b = b.max()\nmax_b", 
            "cell_type": "code", 
            "metadata": {}, 
            "outputs": [], 
            "execution_count": null
        }, 
        {
            "source": "# Get the smallest value in the numpy array\n\nmin_b = b.min()\nmin_b", 
            "cell_type": "code", 
            "metadata": {}, 
            "outputs": [], 
            "execution_count": null
        }, 
        {
            "source": "<hr>", 
            "cell_type": "markdown", 
            "metadata": {}
        }, 
        {
            "source": "<h2 id=\"op\">Numpy Array Operations</h2>", 
            "cell_type": "markdown", 
            "metadata": {}
        }, 
        {
            "source": "<h3 id=\"add\">Array Addition</h3>", 
            "cell_type": "markdown", 
            "metadata": {}
        }, 
        {
            "source": "Consider the numpy array <code>u</code>:", 
            "cell_type": "markdown", 
            "metadata": {}
        }, 
        {
            "source": "u = np.array([1, 0])\nu", 
            "cell_type": "code", 
            "metadata": {}, 
            "outputs": [
                {
                    "execution_count": 9, 
                    "output_type": "execute_result", 
                    "data": {
                        "text/plain": "array([1, 0])"
                    }, 
                    "metadata": {}
                }
            ], 
            "execution_count": 9
        }, 
        {
            "source": "Consider the numpy array <code>v</code>:", 
            "cell_type": "markdown", 
            "metadata": {}
        }, 
        {
            "source": "v = np.array([0, 1])\nv", 
            "cell_type": "code", 
            "metadata": {}, 
            "outputs": [
                {
                    "execution_count": 10, 
                    "output_type": "execute_result", 
                    "data": {
                        "text/plain": "array([0, 1])"
                    }, 
                    "metadata": {}
                }
            ], 
            "execution_count": 10
        }, 
        {
            "source": "We can add the two arrays and assign it to z:", 
            "cell_type": "markdown", 
            "metadata": {}
        }, 
        {
            "source": "# Numpy Array Addition\n\nz = u + v\nz", 
            "cell_type": "code", 
            "metadata": {}, 
            "outputs": [
                {
                    "execution_count": 11, 
                    "output_type": "execute_result", 
                    "data": {
                        "text/plain": "array([1, 1])"
                    }, 
                    "metadata": {}
                }
            ], 
            "execution_count": 11
        }, 
        {
            "source": " The operation is equivalent to vector addition:", 
            "cell_type": "markdown", 
            "metadata": {}
        }, 
        {
            "source": "# Plot numpy arrays\n\nPlotvec1(u,z, v)", 
            "cell_type": "code", 
            "metadata": {}, 
            "outputs": [
                {
                    "output_type": "display_data", 
                    "data": {
                        "image/png": "[encoded data removed]", 
                        "text/plain": "<Figure size 432x288 with 1 Axes>"
                    }, 
                    "metadata": {
                        "needs_background": "light"
                    }
                }
            ], 
            "execution_count": 17
        }, 
        {
            "source": "<h3 id=\"multi\">Array Multiplication</h3>", 
            "cell_type": "markdown", 
            "metadata": {}
        }, 
        {
            "source": "Consider the vector numpy array <code>y</code>:", 
            "cell_type": "markdown", 
            "metadata": {}
        }, 
        {
            "source": "# Create a numpy array\n\ny = np.array([1, 2])\ny", 
            "cell_type": "code", 
            "metadata": {}, 
            "outputs": [], 
            "execution_count": null
        }, 
        {
            "source": "We can multiply every element in the array by 2:", 
            "cell_type": "markdown", 
            "metadata": {}
        }, 
        {
            "source": "# Numpy Array Multiplication\n\nz = 2 * y\nz", 
            "cell_type": "code", 
            "metadata": {}, 
            "outputs": [], 
            "execution_count": null
        }, 
        {
            "source": " This is equivalent to multiplying a vector by a scaler: ", 
            "cell_type": "markdown", 
            "metadata": {}
        }, 
        {
            "source": "<h3 id=\"prod\">Product of Two Numpy Arrays</h3>", 
            "cell_type": "markdown", 
            "metadata": {}
        }, 
        {
            "source": "Consider the following array <code>u</code>:", 
            "cell_type": "markdown", 
            "metadata": {}
        }, 
        {
            "source": "# Create a numpy array\n\nu = np.array([1, 2])\nu", 
            "cell_type": "code", 
            "metadata": {}, 
            "outputs": [], 
            "execution_count": null
        }, 
        {
            "source": "Consider the following array <code>v</code>:", 
            "cell_type": "markdown", 
            "metadata": {}
        }, 
        {
            "source": "# Create a numpy array\n\nv = np.array([3, 2])\nv", 
            "cell_type": "code", 
            "metadata": {}, 
            "outputs": [], 
            "execution_count": null
        }, 
        {
            "source": " The product of the two numpy arrays <code>u</code> and <code>v</code> is given by:", 
            "cell_type": "markdown", 
            "metadata": {}
        }, 
        {
            "source": "# Calculate the production of two numpy arrays\n\nz = u * v\nz", 
            "cell_type": "code", 
            "metadata": {}, 
            "outputs": [], 
            "execution_count": null
        }, 
        {
            "source": "<h3 id=\"dot\">Dot Product</h3>", 
            "cell_type": "markdown", 
            "metadata": {}
        }, 
        {
            "source": "The dot product of the two numpy arrays <code>u</code> and <code>v</code> is given by:", 
            "cell_type": "markdown", 
            "metadata": {}
        }, 
        {
            "source": "# Calculate the dot product\n\nnp.dot(u, v)", 
            "cell_type": "code", 
            "metadata": {}, 
            "outputs": [], 
            "execution_count": null
        }, 
        {
            "source": "<h3 id=\"cons\">Adding Constant to a Numpy Array</h3>", 
            "cell_type": "markdown", 
            "metadata": {}
        }, 
        {
            "source": "Consider the following array: ", 
            "cell_type": "markdown", 
            "metadata": {}
        }, 
        {
            "source": "# Create a constant to numpy array\n\nu = np.array([1, 2, 3, -1]) \nu", 
            "cell_type": "code", 
            "metadata": {}, 
            "outputs": [], 
            "execution_count": null
        }, 
        {
            "source": "Adding the constant 1 to each element in the array:", 
            "cell_type": "markdown", 
            "metadata": {}
        }, 
        {
            "source": "# Add the constant to array\n\nu + 1", 
            "cell_type": "code", 
            "metadata": {}, 
            "outputs": [], 
            "execution_count": null
        }, 
        {
            "source": " The process is summarised in the following animation:", 
            "cell_type": "markdown", 
            "metadata": {}
        }, 
        {
            "source": "<img src=\"https://s3-api.us-geo.objectstorage.softlayer.net/cf-courses-data/CognitiveClass/PY0101EN/Chapter%205/Images/NumOneAdd.gif\" width=\"500\" />", 
            "cell_type": "markdown", 
            "metadata": {}
        }, 
        {
            "source": "<hr>", 
            "cell_type": "markdown", 
            "metadata": {}
        }, 
        {
            "source": "<h2 id=\"math\">Mathematical Functions</h2>", 
            "cell_type": "markdown", 
            "metadata": {}
        }, 
        {
            "source": " We can access the value of pie in numpy as follows :", 
            "cell_type": "markdown", 
            "metadata": {}
        }, 
        {
            "source": "# The value of pie\n\nnp.pi", 
            "cell_type": "code", 
            "metadata": {}, 
            "outputs": [
                {
                    "execution_count": 4, 
                    "output_type": "execute_result", 
                    "data": {
                        "text/plain": "3.141592653589793"
                    }, 
                    "metadata": {}
                }
            ], 
            "execution_count": 4
        }, 
        {
            "source": " We can create the following numpy array in Radians:", 
            "cell_type": "markdown", 
            "metadata": {}
        }, 
        {
            "source": "# Create the numpy array in radians\n\nx = np.array([0, np.pi/2 , np.pi])", 
            "cell_type": "code", 
            "metadata": {}, 
            "outputs": [], 
            "execution_count": null
        }, 
        {
            "source": "We can apply the function <code>sin</code> to the array <code>x</code> and assign the values to the array <code>y</code>; this applies the sine function to each element in the array:  ", 
            "cell_type": "markdown", 
            "metadata": {}
        }, 
        {
            "source": "# Calculate the sin of each elements\n\ny = np.sin(x)\ny", 
            "cell_type": "code", 
            "metadata": {}, 
            "outputs": [], 
            "execution_count": null
        }, 
        {
            "source": "<hr>", 
            "cell_type": "markdown", 
            "metadata": {}
        }, 
        {
            "source": "<h2 id=\"lin\">Linspace</h2>", 
            "cell_type": "markdown", 
            "metadata": {}
        }, 
        {
            "source": " A useful function for plotting mathematical functions is \"linespace\".   Linespace returns evenly spaced numbers over a specified interval. We specify the starting point of the sequence and the ending point of the sequence. The parameter \"num\" indicates the Number of samples to generate, in this case 5:", 
            "cell_type": "markdown", 
            "metadata": {}
        }, 
        {
            "source": "# Makeup a numpy array within [-2, 2] and 5 elements\n\nnp.linspace(-2, 2, num=5)", 
            "cell_type": "code", 
            "metadata": {}, 
            "outputs": [], 
            "execution_count": null
        }, 
        {
            "source": "If we change the parameter <code>num</code> to 9, we get 9 evenly spaced numbers over the interval from -2 to 2: ", 
            "cell_type": "markdown", 
            "metadata": {}
        }, 
        {
            "source": "# Makeup a numpy array within [-2, 2] and 9 elements\n\nnp.linspace(-2, 2, num=9)", 
            "cell_type": "code", 
            "metadata": {}, 
            "outputs": [], 
            "execution_count": null
        }, 
        {
            "source": "We can use the function line space to generate 100 evenly spaced samples from the interval 0 to 2\u03c0: ", 
            "cell_type": "markdown", 
            "metadata": {}
        }, 
        {
            "source": "# Makeup a numpy array within [0, 2\u03c0] and 100 elements \n\nx = np.linspace(0, 2*np.pi, num=100)", 
            "cell_type": "code", 
            "metadata": {}, 
            "outputs": [], 
            "execution_count": null
        }, 
        {
            "source": "We can apply the sine function to each element in the array <code>x</code> and assign it to the array <code>y</code>: ", 
            "cell_type": "markdown", 
            "metadata": {}
        }, 
        {
            "source": "# Calculate the sine of x list\n\ny = np.sin(x)", 
            "cell_type": "code", 
            "metadata": {
                "collapsed": true
            }, 
            "outputs": [], 
            "execution_count": null
        }, 
        {
            "source": "# Plot the result\n\nplt.plot(x, y)", 
            "cell_type": "code", 
            "metadata": {}, 
            "outputs": [], 
            "execution_count": null
        }, 
        {
            "source": "<hr>", 
            "cell_type": "markdown", 
            "metadata": {}
        }, 
        {
            "source": "<h2 id=\"quiz\">Quiz on 1D Numpy Array</h2>", 
            "cell_type": "markdown", 
            "metadata": {}
        }, 
        {
            "source": "Implement the following vector subtraction in numpy: u-v", 
            "cell_type": "markdown", 
            "metadata": {}
        }, 
        {
            "source": "# Write your code below and press Shift+Enter to execute\n\nu = np.array([1, 0])\nv = np.array([0, 1])\nu-v\n\n", 
            "cell_type": "code", 
            "metadata": {}, 
            "outputs": [
                {
                    "execution_count": 5, 
                    "output_type": "execute_result", 
                    "data": {
                        "text/plain": "array([ 1, -1])"
                    }, 
                    "metadata": {}
                }
            ], 
            "execution_count": 5
        }, 
        {
            "source": "Double-click __here__ for the solution.\n\n<!-- Your answer is below:\nu - v\n-->", 
            "cell_type": "markdown", 
            "metadata": {}
        }, 
        {
            "source": "<hr>", 
            "cell_type": "markdown", 
            "metadata": {}
        }, 
        {
            "source": "Multiply the numpy array z with -2:", 
            "cell_type": "markdown", 
            "metadata": {}
        }, 
        {
            "source": "# Write your code below and press Shift+Enter to execute\n\nz = np.array([2, 4])\nz*(-2)", 
            "cell_type": "code", 
            "metadata": {}, 
            "outputs": [
                {
                    "execution_count": 6, 
                    "output_type": "execute_result", 
                    "data": {
                        "text/plain": "array([-4, -8])"
                    }, 
                    "metadata": {}
                }
            ], 
            "execution_count": 6
        }, 
        {
            "source": "Double-click __here__ for the solution.\n\n<!-- Your answer is below:\n-2 * z\n-->", 
            "cell_type": "markdown", 
            "metadata": {}
        }, 
        {
            "source": "<hr>", 
            "cell_type": "markdown", 
            "metadata": {}
        }, 
        {
            "source": "Consider the list <code>[1, 2, 3, 4, 5]</code> and <code>[1, 0, 1, 0, 1]</code>, and cast both lists to a numpy array then multiply them together:", 
            "cell_type": "markdown", 
            "metadata": {}
        }, 
        {
            "source": "# Write your code below and press Shift+Enter to execute\na= np.array([1,2,3,4,5])\nb= np.array([1,0,1,0,1])\na*b\n", 
            "cell_type": "code", 
            "metadata": {}, 
            "outputs": [
                {
                    "execution_count": 7, 
                    "output_type": "execute_result", 
                    "data": {
                        "text/plain": "array([1, 0, 3, 0, 5])"
                    }, 
                    "metadata": {}
                }
            ], 
            "execution_count": 7
        }, 
        {
            "source": "Double-click __here__ for the solution.\n\n<!-- Your answer is below:\na = np.array([1, 2, 3, 4, 5])\nb = np.array([1, 0, 1, 0, 1])\na * b\n-->", 
            "cell_type": "markdown", 
            "metadata": {}
        }, 
        {
            "source": "<hr>", 
            "cell_type": "markdown", 
            "metadata": {}
        }, 
        {
            "source": "Convert the list <code>[-1, 1]</code> and <code>[1, 1]</code> to numpy arrays <code>a</code> and <code>b</code>.  Then, plot the arrays as vectors using the fuction <code>Plotvec2</code> and find the dot product:", 
            "cell_type": "markdown", 
            "metadata": {}
        }, 
        {
            "source": "# Write your code below and press Shift+Enter to execute\na= np.array([-1,1])\nb= np.array([1,1])\nc= np.dot(a, b)\n\n", 
            "cell_type": "code", 
            "metadata": {}, 
            "outputs": [
                {
                    "execution_count": 15, 
                    "output_type": "execute_result", 
                    "data": {
                        "text/plain": "0"
                    }, 
                    "metadata": {}
                }
            ], 
            "execution_count": 15
        }, 
        {
            "source": "Double-click __here__ for the solution.\n\n<!-- Your answer is below:\na = np.array([-1, 1])\nb = np.array([1, 1])\nPlotvec2(a, b)\nprint(\"The dot product is\", np.dot(a,b))\n-->", 
            "cell_type": "markdown", 
            "metadata": {}
        }, 
        {
            "source": "<hr>", 
            "cell_type": "markdown", 
            "metadata": {}
        }, 
        {
            "source": "Convert the list <code>[1, 0]</code> and <code>[0, 1]</code> to numpy arrays <code>a</code> and <code>b</code>. Then, plot the arrays as vectors using the function <code>Plotvec2</code> and find the dot product:", 
            "cell_type": "markdown", 
            "metadata": {}
        }, 
        {
            "source": "# Write your code below and press Shift+Enter to execute\na= np.array([1, 0])\nb= np.array([0, 1])\nz= np.dot(a, b)\nPlotvec2(a,b)\nprint(z)\n", 
            "cell_type": "code", 
            "metadata": {}, 
            "outputs": [
                {
                    "output_type": "stream", 
                    "name": "stdout", 
                    "text": "0\n"
                }, 
                {
                    "output_type": "display_data", 
                    "data": {
                        "image/png": "[encoded data removed]", 
                        "text/plain": "<Figure size 432x288 with 1 Axes>"
                    }, 
                    "metadata": {
                        "needs_background": "light"
                    }
                }
            ], 
            "execution_count": 24
        }, 
        {
            "source": "Double-click __here__ for the solution.\n\n<!-- \na = np.array([1, 0])\nb = np.array([0, 1])\nPlotvec2(a, b)\nprint(\"The dot product is\", np.dot(a, b))\n -->", 
            "cell_type": "markdown", 
            "metadata": {}
        }, 
        {
            "source": "<hr>", 
            "cell_type": "markdown", 
            "metadata": {}
        }, 
        {
            "source": "Convert the list <code>[1, 1]</code> and <code>[0, 1]</code> to numpy arrays <code>a</code> and <code>b</code>. Then plot the arrays as vectors using the fuction <code>Plotvec2</code> and find the dot product:", 
            "cell_type": "markdown", 
            "metadata": {}
        }, 
        {
            "source": "# Write your code below and press Shift+Enter to execute\na= np.array([1, 1])\nb= np.array([0, 1])\nz= np.dot(a, b)\nPlotvec2(a,b)\nprint(z)", 
            "cell_type": "code", 
            "metadata": {}, 
            "outputs": [
                {
                    "output_type": "stream", 
                    "name": "stdout", 
                    "text": "1\n"
                }, 
                {
                    "output_type": "display_data", 
                    "data": {
                        "image/png": "[encoded data removed]", 
                        "text/plain": "<Figure size 432x288 with 1 Axes>"
                    }, 
                    "metadata": {
                        "needs_background": "light"
                    }
                }
            ], 
            "execution_count": 26
        }, 
        {
            "source": "Double-click __here__ for the solution.\n\n<!-- \na = np.array([1, 1])\nb = np.array([0, 1])\nPlotvec2(a, b)\nprint(\"The dot product is\", np.dot(a, b))\nprint(\"The dot product is\", np.dot(a, b))\n -->", 
            "cell_type": "markdown", 
            "metadata": {}
        }, 
        {
            "source": "<hr>", 
            "cell_type": "markdown", 
            "metadata": {}
        }, 
        {
            "source": "Why are the results of the dot product for <code>[-1, 1]</code> and <code>[1, 1]</code> and the dot product for <code>[1, 0]</code> and <code>[0, 1]</code> zero, but not zero for the dot product for <code>[1, 1]</code> and <code>[0, 1]</code>? <p><i>Hint: Study the corresponding figures, pay attention to the direction the arrows are pointing to.</i></p>", 
            "cell_type": "markdown", 
            "metadata": {}
        }, 
        {
            "source": "# Write your code below and press Shift+Enter to execute\n#The vectors used for question 4 and 5 are perpendicular. As a result, the dot product is zero. ", 
            "cell_type": "code", 
            "metadata": {}, 
            "outputs": [], 
            "execution_count": 28
        }, 
        {
            "source": "Double-click __here__ for the solution.\n\n<!-- \nThe vectors used for question 4 and 5 are perpendicular. As a result, the dot product is zero. \n-->", 
            "cell_type": "markdown", 
            "metadata": {}
        }, 
        {
            "source": "<hr>\n<h2>The last exercise!</h2>\n<p>Congratulations, you have completed your first lesson and hands-on lab in Python. However, there is one more thing you need to do. The Data Science community encourages sharing work. The best way to share and showcase your work is to share it on GitHub. By sharing your notebook on GitHub you are not only building your reputation with fellow data scientists, but you can also show it off when applying for a job. Even though this was your first piece of work, it is never too early to start building good habits. So, please read and follow <a href=\"https://cognitiveclass.ai/blog/data-scientists-stand-out-by-sharing-your-notebooks/\" target=\"_blank\">this article</a> to learn how to share your work.\n<hr>", 
            "cell_type": "markdown", 
            "metadata": {}
        }, 
        {
            "source": "<div class=\"alert alert-block alert-info\" style=\"margin-top: 20px\">\n<h2>Get IBM Watson Studio free of charge!</h2>\n    <p><a href=\"https://cocl.us/bottemNotebooksPython101Coursera\"><img src=\"https://s3-api.us-geo.objectstorage.softlayer.net/cf-courses-data/CognitiveClass/PY0101EN/Ad/BottomAd.png\" width=\"750\" align=\"center\"></a></p>\n</div>", 
            "cell_type": "markdown", 
            "metadata": {}
        }, 
        {
            "source": "<h3>About the Authors:</h3>  \n<p><a href=\"https://www.linkedin.com/in/joseph-s-50398b136/\" target=\"_blank\">Joseph Santarcangelo</a> is a Data Scientist at IBM, and holds a PhD in Electrical Engineering. His research focused on using Machine Learning, Signal Processing, and Computer Vision to determine how videos impact human cognition. Joseph has been working for IBM since he completed his PhD.</p>", 
            "cell_type": "markdown", 
            "metadata": {}
        }, 
        {
            "source": "Other contributors: <a href=\"www.linkedin.com/in/jiahui-mavis-zhou-a4537814a\">Mavis Zhou</a>", 
            "cell_type": "markdown", 
            "metadata": {}
        }, 
        {
            "source": "<hr>", 
            "cell_type": "markdown", 
            "metadata": {}
        }, 
        {
            "source": "<p>Copyright &copy; 2018 IBM Developer Skills Network. This notebook and its source code are released under the terms of the <a href=\"https://cognitiveclass.ai/mit-license/\">MIT License</a>.</p>", 
            "cell_type": "markdown", 
            "metadata": {}
        }
    ], 
    "metadata": {
        "kernelspec": {
            "display_name": "Python 3.5", 
            "name": "python3", 
            "language": "python"
        }, 
        "language_info": {
            "mimetype": "text/x-python", 
            "nbconvert_exporter": "python", 
            "version": "3.5.5", 
            "name": "python", 
            "pygments_lexer": "ipython3", 
            "file_extension": ".py", 
            "codemirror_mode": {
                "version": 3, 
                "name": "ipython"
            }
        }
    }, 
    "nbformat": 4
}